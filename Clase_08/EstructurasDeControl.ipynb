{
 "cells": [
  {
   "cell_type": "code",
   "execution_count": 32,
   "id": "bef99276-5c8b-485e-9fc7-9f90a6930b83",
   "metadata": {},
   "outputs": [
    {
     "name": "stdout",
     "output_type": "stream",
     "text": [
      "Overwriting Guess.cpp\n"
     ]
    }
   ],
   "source": [
    "%%writefile Guess.cpp\n",
    "\n",
    "#include <iostream>\n",
    "using namespace std;\n",
    "int main (){\n",
    "char ch= 'K';\n",
    "char answer = 'K';\n",
    "\n",
    "std::cout<<\"Estoy pensando en una letra de la A a la Z\"<< endl;\n",
    "std::cout<<\"Puedes adivinarla?\"<< endl;\n",
    "std:: cin >> answer ; //lee el char desde el teclado \n",
    "if (ch == answer) cout << \"**Correcto **\" << endl;\n",
    "return  0;\n",
    " }"
   ]
  },
  {
   "cell_type": "code",
   "execution_count": 33,
   "id": "6e372b0e-39a3-4ca8-acfb-703e9cf3fef9",
   "metadata": {},
   "outputs": [],
   "source": [
    "!g++ Guess.cpp -o guess"
   ]
  },
  {
   "cell_type": "code",
   "execution_count": 34,
   "id": "ba6d92ba-cf58-436f-9363-79563cbb6522",
   "metadata": {},
   "outputs": [
    {
     "name": "stdout",
     "output_type": "stream",
     "text": [
      "Overwriting Guess_1.cpp\n"
     ]
    }
   ],
   "source": [
    "%%writefile Guess_1.cpp\n",
    "\n",
    "#include <iostream>\n",
    "using namespace std;\n",
    "int main (){\n",
    "char ch= 'K';\n",
    "char answer = 'K';\n",
    "\n",
    "std::cout<<\"Estoy pensando en una letra de la A a la Z\"<< endl;\n",
    "std::cout<<\"Puedes adivinarla?\"<< endl;\n",
    "std:: cin >> answer ; //lee el char desde el teclado \n",
    "if (ch == answer) cout << \"**Correcto **\" << endl;\n",
    "else cout << \"**... Sorry, esta equivocado\" <<endl;\n",
    "return  0;\n",
    "}"
   ]
  },
  {
   "cell_type": "code",
   "execution_count": 35,
   "id": "5777d2ae-b1dd-4e71-b8d5-5f5cad3e94ba",
   "metadata": {},
   "outputs": [],
   "source": [
    "!g++ Guess_1.cpp -o guess1"
   ]
  },
  {
   "cell_type": "code",
   "execution_count": 36,
   "id": "661792eb-811f-4c8f-9615-541e8b79ead7",
   "metadata": {},
   "outputs": [
    {
     "name": "stdout",
     "output_type": "stream",
     "text": [
      "Overwriting Guess_2.cpp\n"
     ]
    }
   ],
   "source": [
    "%%writefile Guess_2.cpp\n",
    "\n",
    "#include <iostream>\n",
    "using namespace std;\n",
    "int main (){\n",
    "char ch= 'K';\n",
    "char answer = 'K';\n",
    "\n",
    "std::cout<<\"Estoy pensando en una letra de la A a la Z\"<< endl;\n",
    "std::cout<<\"Puedes adivinarla?\"<< endl;\n",
    "std:: cin >> answer; //lee el char desde el teclado \n",
    "if (ch == answer)cout << \"**Correcto **\" << endl;\n",
    "else { \n",
    "    if (ch < answer) cout << \"**Te has puesto por arriba **\" << endl;\n",
    "    else cout << \"**Te has puesto por debajo**\" << endl;\n",
    "}\n",
    "return  0;\n",
    "}"
   ]
  },
  {
   "cell_type": "code",
   "execution_count": 37,
   "id": "66a898f9-0c16-40f9-8c72-3731c0e8c792",
   "metadata": {},
   "outputs": [],
   "source": [
    "!g++ Guess_2.cpp -o guess2"
   ]
  },
  {
   "cell_type": "code",
   "execution_count": 45,
   "id": "f7817a11-c1f2-43a1-b1f7-c552706db45b",
   "metadata": {},
   "outputs": [
    {
     "name": "stdout",
     "output_type": "stream",
     "text": [
      "Overwriting Escaleras.cpp\n"
     ]
    }
   ],
   "source": [
    "%%writefile Escaleras.cpp\n",
    "#include <iostream> \n",
    "using namespace std;\n",
    "int main(){\n",
    "int x;\n",
    "for(x=0;x<6;x++){\n",
    "std:: cout << x << endl;\n",
    "    if (x==1)\n",
    "std:: cout << \"x es uno\" << endl;\n",
    "    if(x==2)\n",
    "std:: cout << \"X es dos\" <<endl;\n",
    "    if(x==3) \n",
    "std::cout << \"x es tres\" << endl;\n",
    "    if(x==4)\n",
    "std::cout << \"x es cuatro\" << endl;\n",
    "else {\n",
    "    std :: cout << \"x is not between 1 and 4\" << endl;\n",
    "         }\n",
    "}\n",
    "return 0;\n",
    "}"
   ]
  },
  {
   "cell_type": "code",
   "execution_count": 46,
   "id": "4330b676-166e-4316-a94a-bc130f480b5c",
   "metadata": {},
   "outputs": [],
   "source": [
    "!g++ Escaleras.cpp -o Escaleras"
   ]
  },
  {
   "cell_type": "code",
   "execution_count": 47,
   "id": "ad0cac6e-a97f-4c15-955d-65331f824be0",
   "metadata": {},
   "outputs": [
    {
     "name": "stdout",
     "output_type": "stream",
     "text": [
      "Writing loop.cpp\n"
     ]
    }
   ],
   "source": [
    "%%writefile loop.cpp \n",
    "#include <iostream>\n",
    "using namespace std;\n",
    "int main(){\n",
    "int i,j;\n",
    "for (i=0, j=10; i<j;i++, j--){\n",
    "    std::cout << \"i and j:\"<<endl;\n",
    "    std::cout << i <<endl;\n",
    "    std::cout << j <<endl;\n",
    "}\n",
    "return 0;\n",
    "}"
   ]
  },
  {
   "cell_type": "code",
   "execution_count": 52,
   "id": "1167f152-0baa-45d2-ac64-4d284917883d",
   "metadata": {},
   "outputs": [],
   "source": [
    "!g++ loop.cpp -o loop"
   ]
  },
  {
   "cell_type": "code",
   "execution_count": null,
   "id": "1bc94a9d-cf6f-4be7-9aa0-10bfd9654686",
   "metadata": {},
   "outputs": [],
   "source": []
  }
 ],
 "metadata": {
  "kernelspec": {
   "display_name": "Python 3 (ipykernel)",
   "language": "python",
   "name": "python3"
  },
  "language_info": {
   "codemirror_mode": {
    "name": "ipython",
    "version": 3
   },
   "file_extension": ".py",
   "mimetype": "text/x-python",
   "name": "python",
   "nbconvert_exporter": "python",
   "pygments_lexer": "ipython3",
   "version": "3.12.3"
  }
 },
 "nbformat": 4,
 "nbformat_minor": 5
}
