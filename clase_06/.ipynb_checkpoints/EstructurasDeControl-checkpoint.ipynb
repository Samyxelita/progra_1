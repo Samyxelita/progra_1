{
 "cells": [
  {
   "cell_type": "code",
   "execution_count": 3,
   "id": "bef99276-5c8b-485e-9fc7-9f90a6930b83",
   "metadata": {},
   "outputs": [
    {
     "name": "stdout",
     "output_type": "stream",
     "text": [
      "Overwriting Guess.cpp\n"
     ]
    }
   ],
   "source": [
    "%%writefile Guess.cpp\n",
    "\n",
    "include <iostream>\n",
    "using namespace std;\n",
    "int main (){\n",
    "char ch= 'K' ;\n",
    "\n",
    "std::cout<<\"Estoy pensando en una letra de la A a la Z\"<< endl;\n",
    "std::cout<<\"Puedes adivinarla?\"<< endl;\n",
    "std:: cin >> answer) //lee el char desde el teclado \n",
    "if (ch == answer) cout << \"**Correcto **\": << endl;\n",
    "return = 0;"
   ]
  },
  {
   "cell_type": "code",
   "execution_count": null,
   "id": "6e372b0e-39a3-4ca8-acfb-703e9cf3fef9",
   "metadata": {},
   "outputs": [],
   "source": [
    "!g++ Guess.cpp -o guess"
   ]
  }
 ],
 "metadata": {
  "kernelspec": {
   "display_name": "Python 3 (ipykernel)",
   "language": "python",
   "name": "python3"
  },
  "language_info": {
   "codemirror_mode": {
    "name": "ipython",
    "version": 3
   },
   "file_extension": ".py",
   "mimetype": "text/x-python",
   "name": "python",
   "nbconvert_exporter": "python",
   "pygments_lexer": "ipython3",
   "version": "3.12.3"
  }
 },
 "nbformat": 4,
 "nbformat_minor": 5
}
